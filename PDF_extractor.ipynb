{
  "nbformat": 4,
  "nbformat_minor": 0,
  "metadata": {
    "colab": {
      "provenance": []
    },
    "kernelspec": {
      "name": "python3",
      "display_name": "Python 3"
    },
    "language_info": {
      "name": "python"
    }
  },
  "cells": [
    {
      "cell_type": "code",
      "execution_count": null,
      "metadata": {
        "id": "oyf-Susp_M6j"
      },
      "outputs": [],
      "source": [
        "!pip install PyMuPDF Pillow"
      ]
    },
    {
      "cell_type": "code",
      "source": [
        "!sudo apt install tesseract-ocr-rus"
      ],
      "metadata": {
        "id": "53B1m0h6_bCy"
      },
      "execution_count": null,
      "outputs": []
    },
    {
      "cell_type": "code",
      "source": [
        "!pip install pytesseract"
      ],
      "metadata": {
        "id": "hV1_QfRj_bof"
      },
      "execution_count": null,
      "outputs": []
    },
    {
      "cell_type": "code",
      "source": [
        "!python -m spacy download ru_core_news_sm"
      ],
      "metadata": {
        "id": "A8ZD05-W_egQ"
      },
      "execution_count": 14,
      "outputs": []
    },
    {
      "cell_type": "code",
      "source": [
        "!pip install pandas"
      ],
      "metadata": {
        "id": "kiB9b43x_fzX"
      },
      "execution_count": null,
      "outputs": []
    },
    {
      "cell_type": "code",
      "source": [
        "import fitz # PyMuPDF\n",
        "import io\n",
        "from PIL import Image\n",
        "import re\n",
        "import pytesseract\n",
        "import spacy\n",
        "import pandas as pd\n",
        "from sklearn.feature_extraction.text import TfidfVectorizer\n",
        "import sys"
      ],
      "metadata": {
        "id": "pCqvOSbS_lJm"
      },
      "execution_count": 16,
      "outputs": []
    },
    {
      "cell_type": "code",
      "source": [
        "class DocInfo:\n",
        "\n",
        "  \"\"\"This class gets all PDF info\"\"\"\n",
        "\n",
        "  def __init__(self, filename):\n",
        "    self.filename = fitz.open(filename)\n",
        "    self.text = []\n",
        "    self.images = []\n",
        "    self.other_pages = []\n",
        "    self.date = []\n",
        "    self.disc_from_img = []\n",
        "\n",
        "\n",
        "  def GetText(self):\n",
        "\n",
        "    \"\"\" Written info \"\"\"\n",
        "\n",
        "    for page_index in range(len(self.filename)):\n",
        "\n",
        "      page = self.filename.load_page(page_index)\n",
        "      page_to_text = page.get_text(\"text\")\n",
        "\n",
        "      self.text.append(page_to_text)\n",
        "\n",
        "    return self.text\n",
        "\n",
        "\n",
        "  def CheckOtherPages(self, text):\n",
        "\n",
        "    \"\"\"Looks for text on other pages\"\"\"\n",
        "\n",
        "    if len(self.text) > 1:\n",
        "      self.other_pages = self.text[1:]\n",
        "    else:\n",
        "      self.other_pages = \" \".join(self.text)\n",
        "\n",
        "    return self.other_pages\n",
        "\n",
        "\n",
        "  def GetImages(self):\n",
        "\n",
        "    \"\"\"Grabs images\"\"\"\n",
        "    #Searches for images in the PDF\n",
        "    for page_index in range(len(self.filename)):\n",
        "      page = self.filename[page_index]\n",
        "      image_list = page.get_images()\n",
        "\n",
        "      for image_index, img in enumerate(image_list, start=1):\n",
        "\n",
        "          xref = img[0]\n",
        "          base_image = self.filename.extract_image(xref)\n",
        "          image_bytes = base_image[\"image\"]\n",
        "          image_ext = base_image[\"ext\"]\n",
        "          image = Image.open(io.BytesIO(image_bytes))\n",
        "          image.save(open(f\"image{page_index+1}_{image_index}.{image_ext}\", \"wb\"))\n",
        "\n",
        "          self.images.append(f\"image{page_index+1}_{image_index}.{image_ext}\")\n",
        "\n",
        "\n",
        "  def GetDate(self, images):\n",
        "\n",
        "    \"\"\"Finds date and number of the complaint\"\"\"\n",
        "\n",
        "    image_path_in_colab='./'+ str(self.images[0])\n",
        "    custom_config = r'-l eng+rus --psm 6'\n",
        "    extractedInformation = pytesseract.image_to_string(Image.open(image_path_in_colab),config=custom_config)\n",
        "    self.date = (extractedInformation.strip('\\n\\x0c').split(' '))\n",
        "\n",
        "    return self.date\n",
        "\n",
        "\n",
        "  def GetInfoFromPages(self, images):\n",
        "\n",
        "    \"\"\"Looks for text on images\"\"\"\n",
        "\n",
        "    pic = []\n",
        "    for img in self.images:\n",
        "      pict = re.findall('image2', str(img))\n",
        "      if len(pict)>= 1:\n",
        "        pic.append(img)\n",
        "\n",
        "\n",
        "    if len(pic)>= 1:\n",
        "      for i, p in enumerate(pic):\n",
        "        image_path_in_colab='./'+ str(pic[i])\n",
        "        custom_config = r'-l eng+rus --psm 6'\n",
        "        extractedInformation = pytesseract.image_to_string(Image.open(image_path_in_colab),config=custom_config)\n",
        "        image = re.sub(\"\\\\n\", \"\", extractedInformation)\n",
        "\n",
        "        self.disc_from_img.append(image)\n",
        "\n",
        "    else:\n",
        "       self.disc_from_img.append(\"Во вложении нет описания проблемы\")\n",
        "\n",
        "    return self.disc_from_img\n",
        "\n",
        "\n",
        "  def AllInfo(self, text_disc, img_disc):\n",
        "\n",
        "    all_info = text_disc + img_disc\n",
        "\n",
        "    return ' '.join(all_info)"
      ],
      "metadata": {
        "id": "HJtX_N71_xNh"
      },
      "execution_count": 17,
      "outputs": []
    },
    {
      "cell_type": "code",
      "source": [
        "class AnalyzeText:\n",
        "\n",
        "  def __init__(self, disciption):\n",
        "    self.disciption = disciption\n",
        "    self.spacy = spacy.load(\"ru_core_news_sm\")\n",
        "\n",
        "  def CommonWords(self):\n",
        "    clear_text = re.findall('[аА-яЯ]{5,}', self.disciption)\n",
        "    doc = self.spacy(\" \".join(clear_text))\n",
        "\n",
        "\n",
        "\n",
        "    vectorizer = TfidfVectorizer()\n",
        "    filtered_tokens = [token.text for token in doc if token.pos_ in ['NOUN', 'VERB']]\n",
        "    tfidf = vectorizer.fit_transform(filtered_tokens)\n",
        "\n",
        "    top_phrases = sorted(vectorizer.vocabulary_, key=lambda x: tfidf[0, vectorizer.vocabulary_[x]], reverse=False)[:5]\n",
        "\n",
        "    return top_phrases"
      ],
      "metadata": {
        "id": "8B4pRHEUV9J5"
      },
      "execution_count": 18,
      "outputs": []
    },
    {
      "cell_type": "code",
      "source": [
        "def create_dict(file):\n",
        "\n",
        "  info = DocInfo(f\"{file}\")\n",
        "  text = info.GetText()\n",
        "  other_pages_text = info.CheckOtherPages(text)\n",
        "  all_imgs = info.GetImages()\n",
        "  date = info.GetDate(all_imgs)\n",
        "  disc_img_text = info.GetInfoFromPages(all_imgs)\n",
        "\n",
        "  all_text = info.AllInfo(other_pages_text, disc_img_text)\n",
        "  most_common_words = AnalyzeText(all_text).CommonWords()\n",
        "\n",
        "\n",
        "  info2dict = {}\n",
        "\n",
        "  info2dict['Дата'] = date[0]\n",
        "  info2dict['Номер_жалобы'] = date[1]\n",
        "  info2dict['Организация'] = ''.join(re.findall(\"(?<=ООО\\s«)[аА-яЯ]+.[аА-яЯ]+\", ''.join(text)))\n",
        "  info2dict['Кому'] = ''.join(re.findall(\"(?<=\\n)\\w.{1}\\w.{1}[\\-\\s][А-ЯЁ][а-яё]+\",''.join(text)))\n",
        "  info2dict['email'] = ''.join(re.findall(\"(?<=\\n)([a-zA-Z0-9._-]+@[a-zA-Z0-9._-]+\\.[a-zA-Z0-9_-]+)\", ' '.join(text)))\n",
        "  info2dict['Исполнитель'] = ''.join(re.findall(\"(?<=Исп.)\\W.+\", ' '.join(text)))\n",
        "  info2dict['email_исполнителя'] = ''.join(re.findall(\"([a-zA-Z0-9._-]+@[a-zA-Z0-9._-]+\\.[a-zA-Z0-9_-]+)(?=\\.)\", ' '.join(text)))\n",
        "  info2dict['маршруты'] = ' '.join(re.findall(\"№\\s[0-9]+\", ' '.join(text)))\n",
        "  info2dict['Ключевые слова'] = ', '.join(most_common_words)\n",
        "\n",
        "  return info2dict"
      ],
      "metadata": {
        "id": "YCQxru6TftPy"
      },
      "execution_count": 19,
      "outputs": []
    },
    {
      "cell_type": "code",
      "source": [
        "class CollectInfo:\n",
        "\n",
        "  def __init__(self):\n",
        "    self.user_input = input('Укажите путь к жалобе ')\n",
        "    self.all = []\n",
        "\n",
        "\n",
        "  def CheckInp(self):\n",
        "    while True:\n",
        "     if \"pdf\" in self.user_input:\n",
        "      file = create_dict(self.user_input)\n",
        "      self.all.append(file)\n",
        "      check = input('Введите Y/N если хотите продолжить или остановить запись ')\n",
        "      if check.lower() == \"y\":\n",
        "        self.user_input = input('Укажите путь к жалобе ')\n",
        "        continue\n",
        "      if check.lower() == \"n\":\n",
        "        df = pd.DataFrame(self.all)\n",
        "        df.to_excel('complains.xlsx', sheet_name='info', index=True)\n",
        "        print('Запись завершена ')\n",
        "        break\n",
        "\n"
      ],
      "metadata": {
        "id": "odP4T6klP4j6"
      },
      "execution_count": 36,
      "outputs": []
    },
    {
      "cell_type": "code",
      "source": [
        "CollectInfo().CheckInp()"
      ],
      "metadata": {
        "colab": {
          "base_uri": "https://localhost:8080/"
        },
        "id": "vCYwkcH5RFsP",
        "outputId": "2d16bb73-25f3-477f-a6f4-e8a3c161f177"
      },
      "execution_count": 39,
      "outputs": [
        {
          "output_type": "stream",
          "name": "stdout",
          "text": [
            "Укажите путь к жалобе /content/6464.pdf\n",
            "Введите Y/N если хотите продолжить или остановить запись n\n",
            "Запись завершена \n"
          ]
        }
      ]
    }
  ]
}